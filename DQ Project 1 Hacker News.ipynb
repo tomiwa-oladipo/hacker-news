{
 "cells": [
  {
   "cell_type": "markdown",
   "metadata": {},
   "source": [
    "Hacker News Stats"
   ]
  },
  {
   "cell_type": "markdown",
   "metadata": {},
   "source": [
    "Aim of the project is to identify the following:\n",
    "\n",
    "Do Ask HN or Show HN receive more comments on average?\n",
    "Do posts created at a certain time receive more comments on average?"
   ]
  },
  {
   "cell_type": "code",
   "execution_count": 7,
   "metadata": {},
   "outputs": [],
   "source": [
    "import csv"
   ]
  },
  {
   "cell_type": "markdown",
   "metadata": {},
   "source": [
    "Loading File Into hn Variable"
   ]
  },
  {
   "cell_type": "code",
   "execution_count": 42,
   "metadata": {},
   "outputs": [],
   "source": [
    "file_path = \"C:/Users/justi/OneDrive/Documents/DQ Python Projects/HN_posts_year_to_Sep_26_2016.csv\"\n",
    "hn_file = open(file_path, encoding = \"utf8\") ##have to use utf8 encoding for list to work\n",
    "hn_file = csv.reader(hn_file)\n",
    "\n",
    "hn = []\n",
    "\n",
    "for row in hn_file:\n",
    "    hn.append(row)\n"
   ]
  },
  {
   "cell_type": "code",
   "execution_count": 43,
   "metadata": {},
   "outputs": [],
   "source": [
    "headers = hn[0]\n",
    "hn = hn[1:]\n"
   ]
  },
  {
   "cell_type": "markdown",
   "metadata": {},
   "source": [
    "Creating Lists of Post Categories"
   ]
  },
  {
   "cell_type": "code",
   "execution_count": 64,
   "metadata": {},
   "outputs": [],
   "source": [
    "ask_posts = []\n",
    "show_posts = []\n",
    "other_posts = []\n",
    "\n",
    "for row in hn:\n",
    "    title = row[1].lower()\n",
    "    if title.startswith(\"ask hn\"):\n",
    "        ask_posts.append(row)\n",
    "    elif title.startswith(\"show hn\"):\n",
    "        show_posts.append(row)\n",
    "    else:\n",
    "        other_posts.append(row)\n",
    "\n",
    "num_ask_posts = len(ask_posts)\n",
    "num_show_posts = len(show_posts)\n",
    "num_other_posts = len(other_posts)"
   ]
  },
  {
   "cell_type": "markdown",
   "metadata": {},
   "source": [
    "Finding Total Number of Comments For Each Post Type + \n",
    "Average Number of Comments"
   ]
  },
  {
   "cell_type": "code",
   "execution_count": 69,
   "metadata": {},
   "outputs": [
    {
     "name": "stdout",
     "output_type": "stream",
     "text": [
      "10.393478498741656\n",
      "4.886099625910612\n"
     ]
    }
   ],
   "source": [
    "total_ask_comments = 0 \n",
    "total_show_comments = 0 \n",
    "\n",
    "for row in ask_posts:\n",
    "    num = int(row[4])\n",
    "    total_ask_comments += num \n",
    "avg_ask_comments = total_ask_comments/num_ask_posts\n",
    "\n",
    "\n",
    "for row in show_posts:\n",
    "    num = int(row[4])\n",
    "    total_show_comments += num \n",
    "avg_show_comments = total_show_comments/num_show_posts\n",
    "\n",
    "print(avg_ask_comments)\n",
    "print(avg_show_comments)"
   ]
  },
  {
   "cell_type": "markdown",
   "metadata": {},
   "source": [
    "Number of ask_posts Created an Hour + Number of Comments"
   ]
  },
  {
   "cell_type": "code",
   "execution_count": 70,
   "metadata": {},
   "outputs": [],
   "source": [
    "import datetime as dt"
   ]
  },
  {
   "cell_type": "code",
   "execution_count": 78,
   "metadata": {},
   "outputs": [
    {
     "data": {
      "text/plain": [
       "['id', 'title', 'url', 'num_points', 'num_comments', 'author', 'created_at']"
      ]
     },
     "execution_count": 78,
     "metadata": {},
     "output_type": "execute_result"
    }
   ],
   "source": [
    "result_list = []\n",
    "headers"
   ]
  },
  {
   "cell_type": "code",
   "execution_count": 81,
   "metadata": {},
   "outputs": [
    {
     "data": {
      "text/plain": [
       "['9/26/2016 1:17', 3]"
      ]
     },
     "execution_count": 81,
     "metadata": {},
     "output_type": "execute_result"
    }
   ],
   "source": [
    "for row in ask_posts:\n",
    "    tmp_list = []\n",
    "    create_date = row[6]\n",
    "    num_comment = int(row[4])\n",
    "    tmp_list.append(create_date)\n",
    "    tmp_list.append(num_comment)\n",
    "    result_list.append(tmp_list)                    \n",
    " "
   ]
  },
  {
   "cell_type": "code",
   "execution_count": 89,
   "metadata": {},
   "outputs": [
    {
     "name": "stdout",
     "output_type": "stream",
     "text": [
      "{'02': 538, '01': 564, '22': 766, '21': 1036, '19': 1104, '17': 1174, '15': 1292, '14': 1026, '13': 888, '11': 624, '10': 564, '09': 444, '07': 452, '03': 542, '23': 686, '20': 1020, '16': 1158, '08': 514, '00': 602, '18': 1228, '12': 684, '04': 486, '06': 468, '05': 418}\n",
      "{'02': 5992, '01': 4178, '22': 6744, '21': 9000, '19': 7908, '17': 11094, '15': 37050, '14': 9944, '13': 14490, '11': 5594, '10': 6026, '09': 2954, '07': 3170, '03': 4308, '23': 4594, '20': 8924, '16': 8932, '08': 4724, '00': 4554, '18': 9754, '12': 8468, '04': 4720, '06': 3174, '05': 3676}\n"
     ]
    }
   ],
   "source": [
    "import datetime as dt\n",
    "counts_by_hour = {}\n",
    "comments_by_hour = {}  \n",
    "\n",
    "for lst in result_list:\n",
    "    dte = lst[0]\n",
    "    num_comments = lst[1]\n",
    "    dte_format = dt.datetime.strptime(dte,\"%m/%d/%Y %H:%M\")\n",
    "    hour = dte_format.strftime(\"%H\")\n",
    "    if hour not in counts_by_hour:\n",
    "        counts_by_hour[hour] = 1\n",
    "        comments_by_hour[hour] = num_comments \n",
    "    else:\n",
    "        counts_by_hour[hour] += 1\n",
    "        comments_by_hour[hour] += num_comments\n",
    "print(counts_by_hour)\n",
    "print(comments_by_hour)"
   ]
  },
  {
   "cell_type": "markdown",
   "metadata": {},
   "source": [
    "Average Number of Comments Made Per Post"
   ]
  },
  {
   "cell_type": "code",
   "execution_count": 92,
   "metadata": {},
   "outputs": [],
   "source": [
    "avg_by_hour = []\n",
    "for hour in counts_by_hour:\n",
    "    avg = comments_by_hour[hour]/counts_by_hour[hour]\n",
    "    avg_by_hour.append([hour, avg])"
   ]
  },
  {
   "cell_type": "code",
   "execution_count": 96,
   "metadata": {},
   "outputs": [
    {
     "data": {
      "text/plain": [
       "[['02', 11.137546468401487],\n",
       " ['01', 7.407801418439717],\n",
       " ['22', 8.804177545691905],\n",
       " ['21', 8.687258687258687],\n",
       " ['19', 7.163043478260869],\n",
       " ['17', 9.449744463373083],\n",
       " ['15', 28.676470588235293],\n",
       " ['14', 9.692007797270955],\n",
       " ['13', 16.31756756756757],\n",
       " ['11', 8.96474358974359],\n",
       " ['10', 10.684397163120567],\n",
       " ['09', 6.653153153153153],\n",
       " ['07', 7.013274336283186],\n",
       " ['03', 7.948339483394834],\n",
       " ['23', 6.696793002915452],\n",
       " ['20', 8.749019607843136],\n",
       " ['16', 7.713298791018998],\n",
       " ['08', 9.190661478599221],\n",
       " ['00', 7.5647840531561465],\n",
       " ['18', 7.94299674267101],\n",
       " ['12', 12.380116959064328],\n",
       " ['04', 9.7119341563786],\n",
       " ['06', 6.782051282051282],\n",
       " ['05', 8.794258373205741]]"
      ]
     },
     "execution_count": 96,
     "metadata": {},
     "output_type": "execute_result"
    }
   ],
   "source": [
    "avg_by_hour"
   ]
  },
  {
   "cell_type": "code",
   "execution_count": 105,
   "metadata": {},
   "outputs": [
    {
     "name": "stdout",
     "output_type": "stream",
     "text": [
      "[28.676470588235293, '15']\n",
      "[16.31756756756757, '13']\n",
      "[12.380116959064328, '12']\n",
      "[11.137546468401487, '02']\n",
      "[10.684397163120567, '10']\n",
      "[9.7119341563786, '04']\n",
      "[9.692007797270955, '14']\n",
      "[9.449744463373083, '17']\n",
      "[9.190661478599221, '08']\n",
      "[8.96474358974359, '11']\n",
      "[8.804177545691905, '22']\n",
      "[8.794258373205741, '05']\n",
      "[8.749019607843136, '20']\n",
      "[8.687258687258687, '21']\n",
      "[7.948339483394834, '03']\n",
      "[7.94299674267101, '18']\n",
      "[7.713298791018998, '16']\n",
      "[7.5647840531561465, '00']\n",
      "[7.407801418439717, '01']\n",
      "[7.163043478260869, '19']\n",
      "[7.013274336283186, '07']\n",
      "[6.782051282051282, '06']\n",
      "[6.696793002915452, '23']\n",
      "[6.653153153153153, '09']\n"
     ]
    }
   ],
   "source": [
    "swap_avg_by_hour = []\n",
    "for avg in avg_by_hour:\n",
    "    swap_avg_by_hour.append([avg[1],avg[0]])\n",
    "#print(swap_avg_by_hour)\n",
    "sorted_swap = sorted(swap_avg_by_hour,reverse=True)\n",
    "for i in range(len(sorted_swap)):\n",
    "    print(sorted_swap[i])"
   ]
  },
  {
   "cell_type": "code",
   "execution_count": null,
   "metadata": {},
   "outputs": [],
   "source": []
  }
 ],
 "metadata": {
  "kernelspec": {
   "display_name": "Python 3",
   "language": "python",
   "name": "python3"
  },
  "language_info": {
   "codemirror_mode": {
    "name": "ipython",
    "version": 3
   },
   "file_extension": ".py",
   "mimetype": "text/x-python",
   "name": "python",
   "nbconvert_exporter": "python",
   "pygments_lexer": "ipython3",
   "version": "3.7.6"
  }
 },
 "nbformat": 4,
 "nbformat_minor": 4
}
